{
  "cells": [
    {
      "cell_type": "markdown",
      "metadata": {
        "id": "view-in-github",
        "colab_type": "text"
      },
      "source": [
        "<a href=\"https://colab.research.google.com/github/Arshed32029/Assignment_20231061/blob/main/20231061_assignment_1.ipynb\" target=\"_parent\"><img src=\"https://colab.research.google.com/assets/colab-badge.svg\" alt=\"Open In Colab\"/></a>"
      ]
    },
    {
      "cell_type": "markdown",
      "source": [
        "# Python"
      ],
      "metadata": {
        "id": "D54Gib_F66_8"
      },
      "id": "D54Gib_F66_8"
    },
    {
      "cell_type": "code",
      "execution_count": 8,
      "id": "29d0dce5",
      "metadata": {
        "colab": {
          "base_uri": "https://localhost:8080/"
        },
        "id": "29d0dce5",
        "outputId": "b01556f5-8097-438b-8c04-ec7c9416809e"
      },
      "outputs": [
        {
          "name": "stdout",
          "output_type": "stream",
          "text": [
            "Enter a number: 5\n"
          ]
        }
      ],
      "source": [
        "x = input(\"Enter a number: \")\n"
      ]
    },
    {
      "cell_type": "code",
      "execution_count": 9,
      "id": "6384a0d8",
      "metadata": {
        "colab": {
          "base_uri": "https://localhost:8080/"
        },
        "id": "6384a0d8",
        "outputId": "9184e80d-ca74-4a25-920a-f4787b7c76a2"
      },
      "outputs": [
        {
          "output_type": "stream",
          "name": "stdout",
          "text": [
            "<class 'str'>\n"
          ]
        }
      ],
      "source": [
        "print(type(x))\n"
      ]
    },
    {
      "cell_type": "code",
      "execution_count": 10,
      "id": "6fe06f33",
      "metadata": {
        "id": "6fe06f33"
      },
      "outputs": [],
      "source": [
        "y = int(x)\n"
      ]
    },
    {
      "cell_type": "code",
      "execution_count": 11,
      "id": "f73f1c0c",
      "metadata": {
        "id": "f73f1c0c"
      },
      "outputs": [],
      "source": [
        "z = float(x)\n"
      ]
    },
    {
      "cell_type": "code",
      "execution_count": 12,
      "id": "f0dac86a",
      "metadata": {
        "colab": {
          "base_uri": "https://localhost:8080/"
        },
        "id": "f0dac86a",
        "outputId": "8eda7d25-e1f6-4483-9996-de4fe5965686"
      },
      "outputs": [
        {
          "output_type": "stream",
          "name": "stdout",
          "text": [
            "<class 'str'>\n",
            "<class 'int'>\n",
            "<class 'float'>\n"
          ]
        }
      ],
      "source": [
        "print(type(x))\n",
        "print(type(y))\n",
        "print(type(z))\n"
      ]
    },
    {
      "cell_type": "code",
      "execution_count": 13,
      "id": "7657a015",
      "metadata": {
        "colab": {
          "base_uri": "https://localhost:8080/"
        },
        "id": "7657a015",
        "outputId": "39105bd9-a80a-4cbe-b315-74715cb72cd9"
      },
      "outputs": [
        {
          "output_type": "stream",
          "name": "stdout",
          "text": [
            "Enter a number: 5\n",
            "<class 'str'>\n",
            "<class 'str'>\n",
            "<class 'int'>\n",
            "<class 'float'>\n"
          ]
        }
      ],
      "source": [
        "x = input(\"Enter a number: \")\n",
        "print(type(x))\n",
        "\n",
        "y = int(x)\n",
        "z = float(x)\n",
        "\n",
        "print(type(x))\n",
        "print(type(y))\n",
        "print(type(z))\n"
      ]
    },
    {
      "cell_type": "code",
      "execution_count": 14,
      "id": "ec3661dd",
      "metadata": {
        "colab": {
          "base_uri": "https://localhost:8080/"
        },
        "id": "ec3661dd",
        "outputId": "24fc353b-b50b-49cf-d3aa-ff3448b538c8"
      },
      "outputs": [
        {
          "output_type": "stream",
          "name": "stdout",
          "text": [
            "Length of the string: 13\n"
          ]
        }
      ],
      "source": [
        "def calculate_length(string):\n",
        "    return len(string)\n",
        "\n",
        "# Example usage\n",
        "input_string = \"Hello, World!\"\n",
        "length = calculate_length(input_string)\n",
        "print(\"Length of the string:\", length)\n"
      ]
    },
    {
      "cell_type": "code",
      "execution_count": 15,
      "id": "7294f2bd",
      "metadata": {
        "colab": {
          "base_uri": "https://localhost:8080/"
        },
        "id": "7294f2bd",
        "outputId": "1e3f2040-0f71-4729-da7f-ec2707e0a17a"
      },
      "outputs": [
        {
          "output_type": "stream",
          "name": "stdout",
          "text": [
            "Number of characters: 13\n"
          ]
        }
      ],
      "source": [
        "def count_characters(string):\n",
        "    return len(string)\n",
        "\n",
        "# Example usage\n",
        "input_string = \"Hello, World!\"\n",
        "count = count_characters(input_string)\n",
        "print(\"Number of characters:\", count)\n"
      ]
    },
    {
      "cell_type": "code",
      "execution_count": 16,
      "id": "9b158696",
      "metadata": {
        "colab": {
          "base_uri": "https://localhost:8080/"
        },
        "id": "9b158696",
        "outputId": "8561251c-b627-4da2-f53b-ee4e82ea3f10"
      },
      "outputs": [
        {
          "output_type": "stream",
          "name": "stdout",
          "text": [
            "Modified string: Hell, World!\n"
          ]
        }
      ],
      "source": [
        "def remove_character(string, k):\n",
        "    if k < 0 or k >= len(string):\n",
        "        return string\n",
        "    return string[:k] + string[k+1:]\n",
        "\n",
        "# Example usage\n",
        "input_string = \"Hello, World!\"\n",
        "k = 4\n",
        "new_string = remove_character(input_string, k)\n",
        "print(\"Modified string:\", new_string)\n"
      ]
    },
    {
      "cell_type": "code",
      "execution_count": 17,
      "id": "92da3bf1",
      "metadata": {
        "colab": {
          "base_uri": "https://localhost:8080/"
        },
        "id": "92da3bf1",
        "outputId": "bd261192-8221-461d-f3b4-92c2f9a7fbe2"
      },
      "outputs": [
        {
          "output_type": "stream",
          "name": "stdout",
          "text": [
            "Modified string: Hlo ol!\n"
          ]
        }
      ],
      "source": [
        "def remove_odd_index_characters(string):\n",
        "    return string[::2]\n",
        "\n",
        "# Example usage\n",
        "input_string = \"Hello, World!\"\n",
        "new_string = remove_odd_index_characters(input_string)\n",
        "print(\"Modified string:\", new_string)\n"
      ]
    },
    {
      "cell_type": "code",
      "execution_count": 18,
      "id": "cda781a6",
      "metadata": {
        "colab": {
          "base_uri": "https://localhost:8080/"
        },
        "id": "cda781a6",
        "outputId": "fe5cbfd2-ef10-405b-cb65-a72dc7ff6210"
      },
      "outputs": [
        {
          "output_type": "stream",
          "name": "stdout",
          "text": [
            "Enter a string: 2\n",
            "Upper case: 2\n",
            "Lower case: 2\n"
          ]
        }
      ],
      "source": [
        "user_input = input(\"Enter a string: \")\n",
        "print(\"Upper case:\", user_input.upper())\n",
        "print(\"Lower case:\", user_input.lower())\n"
      ]
    },
    {
      "cell_type": "code",
      "execution_count": 19,
      "id": "670a36fe",
      "metadata": {
        "colab": {
          "base_uri": "https://localhost:8080/"
        },
        "id": "670a36fe",
        "outputId": "af3e47ce-1c9f-4ab4-b5ef-f1d44fa0be34"
      },
      "outputs": [
        {
          "output_type": "stream",
          "name": "stdout",
          "text": [
            "Sorted string:  !,HWdellloor\n"
          ]
        }
      ],
      "source": [
        "def sort_string(string):\n",
        "    return ''.join(sorted(string))\n",
        "\n",
        "# Example usage\n",
        "input_string = \"Hello, World!\"\n",
        "sorted_string = sort_string(input_string)\n",
        "print(\"Sorted string:\", sorted_string)\n",
        "\n"
      ]
    },
    {
      "cell_type": "code",
      "execution_count": 20,
      "id": "e4a4dba8",
      "metadata": {
        "colab": {
          "base_uri": "https://localhost:8080/"
        },
        "id": "e4a4dba8",
        "outputId": "8c5c77ed-0875-49d4-cba1-43d350308479"
      },
      "outputs": [
        {
          "output_type": "stream",
          "name": "stdout",
          "text": [
            "Reversed string: !dlroW ,olleH\n"
          ]
        }
      ],
      "source": [
        "def reverse_string(string):\n",
        "    return string[::-1]\n",
        "\n",
        "# Example usage\n",
        "input_string = \"Hello, World!\"\n",
        "reversed_string = reverse_string(input_string)\n",
        "print(\"Reversed string:\", reversed_string)\n"
      ]
    },
    {
      "cell_type": "code",
      "execution_count": 21,
      "id": "17510383",
      "metadata": {
        "colab": {
          "base_uri": "https://localhost:8080/"
        },
        "id": "17510383",
        "outputId": "7a1f8e17-5ddd-4d77-899a-1050f25ce5a4"
      },
      "outputs": [
        {
          "output_type": "stream",
          "name": "stdout",
          "text": [
            "String as a list: ['H', 'e', 'l', 'l', 'o', ',', ' ', 'W', 'o', 'r', 'l', 'd', '!']\n"
          ]
        }
      ],
      "source": [
        "def convert_to_list(string):\n",
        "    return list(string)\n",
        "\n",
        "# Example usage\n",
        "input_string = \"Hello, World!\"\n",
        "string_list = convert_to_list(input_string)\n",
        "print(\"String as a list:\", string_list)\n"
      ]
    },
    {
      "cell_type": "code",
      "execution_count": 22,
      "id": "68f2b0b6",
      "metadata": {
        "colab": {
          "base_uri": "https://localhost:8080/"
        },
        "id": "68f2b0b6",
        "outputId": "7b78d02d-8f8a-4e29-9ea2-08d9d5c40676"
      },
      "outputs": [
        {
          "output_type": "stream",
          "name": "stdout",
          "text": [
            "Sum: 15\n"
          ]
        }
      ],
      "source": [
        "def sum_list(lst):\n",
        "    total = sum(lst)\n",
        "    return total\n",
        "\n",
        "# Example usage\n",
        "numbers = [1, 2, 3, 4, 5]\n",
        "result = sum_list(numbers)\n",
        "print(\"Sum:\", result)\n"
      ]
    },
    {
      "cell_type": "code",
      "execution_count": 23,
      "id": "037d04fe",
      "metadata": {
        "colab": {
          "base_uri": "https://localhost:8080/"
        },
        "id": "037d04fe",
        "outputId": "1b6c9514-ebea-4a21-8444-9c6aefaf15a5"
      },
      "outputs": [
        {
          "output_type": "stream",
          "name": "stdout",
          "text": [
            "Largest number: 12\n",
            "Smallest number: 3\n"
          ]
        }
      ],
      "source": [
        "def find_largest_smallest(lst):\n",
        "    largest = max(lst)\n",
        "    smallest = min(lst)\n",
        "    return largest, smallest\n",
        "\n",
        "# Example usage\n",
        "numbers = [10, 5, 7, 12, 3]\n",
        "largest_num, smallest_num = find_largest_smallest(numbers)\n",
        "print(\"Largest number:\", largest_num)\n",
        "print(\"Smallest number:\", smallest_num)\n"
      ]
    },
    {
      "cell_type": "code",
      "execution_count": 24,
      "id": "d433db70",
      "metadata": {
        "colab": {
          "base_uri": "https://localhost:8080/"
        },
        "id": "d433db70",
        "outputId": "ea8140f2-ae7f-494a-9614-91fac0ac69ae"
      },
      "outputs": [
        {
          "output_type": "stream",
          "name": "stdout",
          "text": [
            "Odd numbers: [1, 3, 5, 7, 9]\n"
          ]
        }
      ],
      "source": [
        "def remove_even_numbers(lst):\n",
        "    odd_numbers = [num for num in lst if num % 2 != 0]\n",
        "    return odd_numbers\n",
        "\n",
        "# Example usage\n",
        "numbers = [1, 2, 3, 4, 5, 6, 7, 8, 9, 10]\n",
        "result = remove_even_numbers(numbers)\n",
        "print(\"Odd numbers:\", result)\n"
      ]
    },
    {
      "cell_type": "code",
      "execution_count": 25,
      "id": "9e4b5182",
      "metadata": {
        "colab": {
          "base_uri": "https://localhost:8080/"
        },
        "id": "9e4b5182",
        "outputId": "2561a1d7-e0a9-4241-9043-236ca12e294e"
      },
      "outputs": [
        {
          "output_type": "stream",
          "name": "stdout",
          "text": [
            "Odd numbers: [1, 3, 5, 7, 9]\n"
          ]
        }
      ],
      "source": [
        "def select_odd_numbers(lst):\n",
        "    odd_numbers = [num for num in lst if num % 2 != 0]\n",
        "    return odd_numbers\n",
        "\n",
        "# Example usage\n",
        "numbers = [1, 2, 3, 4, 5, 6, 7, 8, 9, 10]\n",
        "result = select_odd_numbers(numbers)\n",
        "print(\"Odd numbers:\", result)\n"
      ]
    },
    {
      "cell_type": "code",
      "execution_count": 26,
      "id": "4f1c2208",
      "metadata": {
        "colab": {
          "base_uri": "https://localhost:8080/"
        },
        "id": "4f1c2208",
        "outputId": "f858ac47-845d-4b40-f98b-6646727d6f62"
      },
      "outputs": [
        {
          "output_type": "stream",
          "name": "stdout",
          "text": [
            "String: Hello\n"
          ]
        }
      ],
      "source": [
        "def convert_list_to_string(char_list):\n",
        "    string = ''.join(char_list)\n",
        "    return string\n",
        "\n",
        "# Example usage\n",
        "characters = ['H', 'e', 'l', 'l', 'o']\n",
        "result = convert_list_to_string(characters)\n",
        "print(\"String:\", result)\n"
      ]
    },
    {
      "cell_type": "code",
      "execution_count": 27,
      "id": "2358fce0",
      "metadata": {
        "colab": {
          "base_uri": "https://localhost:8080/"
        },
        "id": "2358fce0",
        "outputId": "e0d8d505-980f-4e3b-fa81-89d0f87d0d7d"
      },
      "outputs": [
        {
          "output_type": "stream",
          "name": "stdout",
          "text": [
            "Index of orange: 2\n"
          ]
        }
      ],
      "source": [
        "def find_index(lst, item):\n",
        "    if item in lst:\n",
        "        index = lst.index(item)\n",
        "        return index\n",
        "    else:\n",
        "        return -1\n",
        "\n",
        "# Example usage\n",
        "fruits = ['apple', 'banana', 'orange', 'grape']\n",
        "item = 'orange'\n",
        "index = find_index(fruits, item)\n",
        "if index != -1:\n",
        "    print(\"Index of\", item + \":\", index)\n",
        "else:\n",
        "    print(item, \"not found in the list.\")\n"
      ]
    },
    {
      "cell_type": "code",
      "execution_count": 28,
      "id": "6f4299e1",
      "metadata": {
        "colab": {
          "base_uri": "https://localhost:8080/"
        },
        "id": "6f4299e1",
        "outputId": "7dd29340-f0d9-46ab-b3ad-5a349cccc5ae"
      },
      "outputs": [
        {
          "output_type": "stream",
          "name": "stdout",
          "text": [
            "Combined list: [1, 2, 3, 4, 5, 6]\n"
          ]
        }
      ],
      "source": [
        "def add_lists(list1, list2):\n",
        "    combined_list = list1 + list2\n",
        "    return combined_list\n",
        "\n",
        "# Example usage\n",
        "list1 = [1, 2, 3]\n",
        "list2 = [4, 5, 6]\n",
        "result = add_lists(list1, list2)\n",
        "print(\"Combined list:\", result)\n"
      ]
    },
    {
      "cell_type": "code",
      "execution_count": 29,
      "id": "29d7f254",
      "metadata": {
        "colab": {
          "base_uri": "https://localhost:8080/"
        },
        "id": "29d7f254",
        "outputId": "ccbe4100-521e-4b34-b573-b4d19921a085"
      },
      "outputs": [
        {
          "output_type": "stream",
          "name": "stdout",
          "text": [
            "Unique values: [1, 2, 3, 4, 5]\n",
            "Count: 5\n"
          ]
        }
      ],
      "source": [
        "def get_unique_values(lst):\n",
        "    unique_values = list(set(lst))\n",
        "    return unique_values\n",
        "\n",
        "def count_unique_values(lst):\n",
        "    unique_values = get_unique_values(lst)\n",
        "    count = len(unique_values)\n",
        "    return count\n",
        "\n",
        "# Example usage\n",
        "numbers = [1, 2, 3, 4, 4, 5, 5, 5]\n",
        "unique_values = get_unique_values(numbers)\n",
        "count = count_unique_values(numbers)\n",
        "print(\"Unique values:\", unique_values)\n",
        "print(\"Count:\", count)\n"
      ]
    },
    {
      "cell_type": "code",
      "execution_count": 30,
      "id": "0162e141",
      "metadata": {
        "colab": {
          "base_uri": "https://localhost:8080/"
        },
        "id": "0162e141",
        "outputId": "71471964-e892-44b7-a4d9-c330301025a1"
      },
      "outputs": [
        {
          "output_type": "stream",
          "name": "stdout",
          "text": [
            "Elements with frequency greater than 2 : [3, 4]\n"
          ]
        }
      ],
      "source": [
        "from collections import Counter\n",
        "\n",
        "def extract_elements_with_frequency_greater_than_k(lst, k):\n",
        "    frequency_count = Counter(lst)\n",
        "    result = [element for element, frequency in frequency_count.items() if frequency > k]\n",
        "    return result\n",
        "\n",
        "# Example usage\n",
        "numbers = [1, 2, 2, 3, 3, 3, 4, 4, 4, 4]\n",
        "k = 2\n",
        "result = extract_elements_with_frequency_greater_than_k(numbers, k)\n",
        "print(\"Elements with frequency greater than\", k, \":\", result)\n"
      ]
    },
    {
      "cell_type": "code",
      "execution_count": 31,
      "id": "a75a3845",
      "metadata": {
        "colab": {
          "base_uri": "https://localhost:8080/"
        },
        "id": "a75a3845",
        "outputId": "133fbdc6-5604-45dd-dbb0-1c42b3895c13"
      },
      "outputs": [
        {
          "output_type": "stream",
          "name": "stdout",
          "text": [
            "Reversed strings: ['olleh', 'dlrow', 'nohtyp']\n"
          ]
        }
      ],
      "source": [
        "def reverse_strings(string_list):\n",
        "    reversed_list = [string[::-1] for string in string_list]\n",
        "    return reversed_list\n",
        "\n",
        "# Example usage\n",
        "strings = [\"hello\", \"world\", \"python\"]\n",
        "reversed_strings = reverse_strings(strings)\n",
        "print(\"Reversed strings:\", reversed_strings)\n"
      ]
    },
    {
      "cell_type": "code",
      "execution_count": 32,
      "id": "40a2bf0b",
      "metadata": {
        "colab": {
          "base_uri": "https://localhost:8080/"
        },
        "id": "40a2bf0b",
        "outputId": "7b0fb215-7be2-477f-a5a6-48a58ed8c0ee"
      },
      "outputs": [
        {
          "output_type": "stream",
          "name": "stdout",
          "text": [
            "{'names': ['Mango', 'Lemon'], 'color': ['yellow', 'green'], 'taste': ['sweet', 'sour']}\n",
            "{'names': ['Mango', 'Lemon', 'Apple'], 'color': ['yellow', 'green'], 'taste': ['sweet', 'sour']}\n"
          ]
        }
      ],
      "source": [
        "# (i) Create a dictionary\n",
        "fruit = {\n",
        "    'names': ['Mango', 'Lemon'],\n",
        "    'color': ['yellow', 'green'],\n",
        "    'taste': ['sweet', 'sour']\n",
        "}\n",
        "\n",
        "# (ii) Display the dictionary\n",
        "print(fruit)\n",
        "\n",
        "# (iii) Add a new value\n",
        "fruit['names'].append('Apple')\n",
        "\n",
        "# Display the updated dictionary\n",
        "print(fruit)\n"
      ]
    },
    {
      "cell_type": "code",
      "execution_count": 33,
      "id": "84e44e83",
      "metadata": {
        "colab": {
          "base_uri": "https://localhost:8080/"
        },
        "id": "84e44e83",
        "outputId": "cef5c892-08e7-4bb0-a882-0eed333a40bf"
      },
      "outputs": [
        {
          "output_type": "stream",
          "name": "stdout",
          "text": [
            "{'name': 'John', 'age': 25, 'city': 'New York'}\n"
          ]
        }
      ],
      "source": [
        "# Initialize a dictionary\n",
        "my_dict = {'name': 'John', 'age': 25}\n",
        "\n",
        "# Add a new key-value pair\n",
        "my_dict['city'] = 'New York'\n",
        "\n",
        "# Display the updated dictionary\n",
        "print(my_dict)\n"
      ]
    },
    {
      "cell_type": "code",
      "execution_count": 34,
      "id": "0f379f02",
      "metadata": {
        "colab": {
          "base_uri": "https://localhost:8080/"
        },
        "id": "0f379f02",
        "outputId": "16bd9c9f-ad3a-43e6-f290-482408639464"
      },
      "outputs": [
        {
          "output_type": "stream",
          "name": "stdout",
          "text": [
            "The key 'name' exists in the dictionary.\n"
          ]
        }
      ],
      "source": [
        "# Initialize a dictionary\n",
        "my_dict = {'name': 'John', 'age': 25}\n",
        "\n",
        "# Check if a key exists\n",
        "key = 'name'\n",
        "if key in my_dict:\n",
        "    print(f\"The key '{key}' exists in the dictionary.\")\n",
        "else:\n",
        "    print(f\"The key '{key}' does not exist in the dictionary.\")\n"
      ]
    },
    {
      "cell_type": "code",
      "execution_count": 35,
      "id": "cd8e0bd8",
      "metadata": {
        "colab": {
          "base_uri": "https://localhost:8080/"
        },
        "id": "cd8e0bd8",
        "outputId": "79bce799-ac0d-4b72-e0cf-cff2a6b30bef"
      },
      "outputs": [
        {
          "output_type": "stream",
          "name": "stdout",
          "text": [
            "John\n"
          ]
        }
      ],
      "source": [
        "# Initialize a dictionary\n",
        "my_dict = {'name': 'John', 'age': 25}\n",
        "\n",
        "# Access a dictionary key's element\n",
        "key = 'name'\n",
        "value = my_dict[key]\n",
        "print(value)\n"
      ]
    },
    {
      "cell_type": "code",
      "execution_count": 36,
      "id": "c91cc7af",
      "metadata": {
        "colab": {
          "base_uri": "https://localhost:8080/"
        },
        "id": "c91cc7af",
        "outputId": "838fd979-2104-459f-8792-7b9894c0f28d"
      },
      "outputs": [
        {
          "output_type": "stream",
          "name": "stdout",
          "text": [
            "Key: name, Value: John\n",
            "Key: age, Value: 25\n",
            "Key: city, Value: New York\n"
          ]
        }
      ],
      "source": [
        "# Initialize a dictionary\n",
        "my_dict = {'name': 'John', 'age': 25, 'city': 'New York'}\n",
        "\n",
        "# Iterate over the dictionary using a for loop\n",
        "for key, value in my_dict.items():\n",
        "    print(f\"Key: {key}, Value: {value}\")\n"
      ]
    },
    {
      "cell_type": "code",
      "execution_count": 37,
      "id": "1254b2e0",
      "metadata": {
        "colab": {
          "base_uri": "https://localhost:8080/"
        },
        "id": "1254b2e0",
        "outputId": "68de2bc9-582c-4b1e-d244-0afdbc07d9b5"
      },
      "outputs": [
        {
          "output_type": "stream",
          "name": "stdout",
          "text": [
            "Enter a number: 34\n",
            "{1: 1, 2: 4, 3: 9, 4: 16, 5: 25, 6: 36, 7: 49, 8: 64, 9: 81, 10: 100, 11: 121, 12: 144, 13: 169, 14: 196, 15: 225, 16: 256, 17: 289, 18: 324, 19: 361, 20: 400, 21: 441, 22: 484, 23: 529, 24: 576, 25: 625, 26: 676, 27: 729, 28: 784, 29: 841, 30: 900, 31: 961, 32: 1024, 33: 1089, 34: 1156}\n"
          ]
        }
      ],
      "source": [
        "# Get user input for n\n",
        "n = int(input(\"Enter a number: \"))\n",
        "\n",
        "# Create an empty dictionary\n",
        "result_dict = {}\n",
        "\n",
        "# Fill the dictionary with keys and their squares\n",
        "for num in range(1, n + 1):\n",
        "    result_dict[num] = num ** 2\n",
        "\n",
        "# Print the resulting dictionary\n",
        "print(result_dict)\n"
      ]
    },
    {
      "cell_type": "code",
      "execution_count": 38,
      "id": "2f15e3de",
      "metadata": {
        "colab": {
          "base_uri": "https://localhost:8080/"
        },
        "id": "2f15e3de",
        "outputId": "951974e7-d809-4997-e4a3-2afed3988ce9"
      },
      "outputs": [
        {
          "output_type": "stream",
          "name": "stdout",
          "text": [
            "{'name': None, 'age': None, 'city': None}\n"
          ]
        }
      ],
      "source": [
        "# Given dictionary\n",
        "original_dict = {'name': 'John', 'age': 25, 'city': 'New York'}\n",
        "\n",
        "# Extract the keys from the dictionary\n",
        "keys = list(original_dict.keys())\n",
        "\n",
        "# Create a new dictionary using the extracted keys\n",
        "new_dict = {key: None for key in keys}\n",
        "\n",
        "# Print the new dictionary\n",
        "print(new_dict)\n"
      ]
    },
    {
      "cell_type": "code",
      "execution_count": 39,
      "id": "906a0d96",
      "metadata": {
        "colab": {
          "base_uri": "https://localhost:8080/"
        },
        "id": "906a0d96",
        "outputId": "5394e9bd-89e3-4957-9fff-0eed8d21bc49"
      },
      "outputs": [
        {
          "output_type": "stream",
          "name": "stdout",
          "text": [
            "{'age': 25, 'full_name': 'John'}\n"
          ]
        }
      ],
      "source": [
        "# Initialize a dictionary\n",
        "my_dict = {'name': 'John', 'age': 25}\n",
        "\n",
        "# Rename a key\n",
        "old_key = 'name'\n",
        "new_key = 'full_name'\n",
        "\n",
        "# Create a new key-value pair with the new key\n",
        "my_dict[new_key] = my_dict.pop(old_key)\n",
        "\n",
        "# Display the updated dictionary\n",
        "print(my_dict)\n"
      ]
    },
    {
      "cell_type": "code",
      "execution_count": 40,
      "id": "8a02b157",
      "metadata": {
        "colab": {
          "base_uri": "https://localhost:8080/"
        },
        "id": "8a02b157",
        "outputId": "54735a12-3c4d-44ff-ff90-862fbbf9705d"
      },
      "outputs": [
        {
          "output_type": "stream",
          "name": "stdout",
          "text": [
            "name\n",
            "age\n",
            "city\n"
          ]
        }
      ],
      "source": [
        "# Initialize a dictionary\n",
        "my_dict = {'name': 'John', 'age': 25, 'city': 'New York'}\n",
        "\n",
        "# Print only the keys of the dictionary\n",
        "for key in my_dict.keys():\n",
        "    print(key)\n"
      ]
    },
    {
      "cell_type": "code",
      "execution_count": 41,
      "id": "992b030a",
      "metadata": {
        "colab": {
          "base_uri": "https://localhost:8080/"
        },
        "id": "992b030a",
        "outputId": "29deed55-0e4c-47af-a524-fb5ad3db05ad"
      },
      "outputs": [
        {
          "output_type": "stream",
          "name": "stdout",
          "text": [
            "John\n",
            "25\n",
            "New York\n"
          ]
        }
      ],
      "source": [
        "# Initialize a dictionary\n",
        "my_dict = {'name': 'John', 'age': 25, 'city': 'New York'}\n",
        "\n",
        "# Print only the values of the dictionary\n",
        "for value in my_dict.values():\n",
        "    print(value)\n"
      ]
    },
    {
      "cell_type": "code",
      "execution_count": 42,
      "id": "1d8b3d3c",
      "metadata": {
        "colab": {
          "base_uri": "https://localhost:8080/"
        },
        "id": "1d8b3d3c",
        "outputId": "65862383-451d-42c0-9274-bf0b055e7d8f"
      },
      "outputs": [
        {
          "output_type": "stream",
          "name": "stdout",
          "text": [
            "1\n",
            "2\n",
            "3\n",
            "4\n",
            "5\n",
            "6\n",
            "7\n",
            "8\n",
            "9\n",
            "10\n"
          ]
        }
      ],
      "source": [
        "count = 1\n",
        "while count <= 10:\n",
        "    print(count)\n",
        "    count += 1\n"
      ]
    },
    {
      "cell_type": "code",
      "execution_count": 43,
      "id": "efb9c5dd",
      "metadata": {
        "colab": {
          "base_uri": "https://localhost:8080/"
        },
        "id": "efb9c5dd",
        "outputId": "5619938c-1401-48ea-f490-c1aec1a2278e"
      },
      "outputs": [
        {
          "output_type": "stream",
          "name": "stdout",
          "text": [
            "Enter a number: 87\n",
            "87 x 1 = 87\n",
            "87 x 2 = 174\n",
            "87 x 3 = 261\n",
            "87 x 4 = 348\n",
            "87 x 5 = 435\n",
            "87 x 6 = 522\n",
            "87 x 7 = 609\n",
            "87 x 8 = 696\n",
            "87 x 9 = 783\n",
            "87 x 10 = 870\n"
          ]
        }
      ],
      "source": [
        "number = int(input(\"Enter a number: \"))\n",
        "\n",
        "for i in range(1, 11):\n",
        "    print(number, \"x\", i, \"=\", number * i)\n"
      ]
    },
    {
      "cell_type": "code",
      "execution_count": 44,
      "id": "2c8b0c6c",
      "metadata": {
        "colab": {
          "base_uri": "https://localhost:8080/"
        },
        "id": "2c8b0c6c",
        "outputId": "afafe931-48ca-4a47-b9a8-0d1e9456aef6"
      },
      "outputs": [
        {
          "output_type": "stream",
          "name": "stdout",
          "text": [
            "1\n",
            "2\n",
            "3\n",
            "4\n",
            "5\n"
          ]
        }
      ],
      "source": [
        "numbers = [1, 2, 3, 4, 5]\n",
        "\n",
        "for number in numbers:\n",
        "    print(number)\n"
      ]
    },
    {
      "cell_type": "code",
      "execution_count": 45,
      "id": "540dba2d",
      "metadata": {
        "colab": {
          "base_uri": "https://localhost:8080/"
        },
        "id": "540dba2d",
        "outputId": "e1bbf441-1332-4dd0-a4d3-c809e6254656"
      },
      "outputs": [
        {
          "output_type": "stream",
          "name": "stdout",
          "text": [
            "5\n",
            "4\n",
            "3\n",
            "2\n",
            "1\n"
          ]
        }
      ],
      "source": [
        "numbers = [1, 2, 3, 4, 5]\n",
        "\n",
        "for i in range(len(numbers) - 1, -1, -1):\n",
        "    print(numbers[i])\n"
      ]
    },
    {
      "cell_type": "code",
      "execution_count": 46,
      "id": "7b15ee2e",
      "metadata": {
        "colab": {
          "base_uri": "https://localhost:8080/"
        },
        "id": "7b15ee2e",
        "outputId": "9df0d0d2-d64d-4ec1-e2ae-fc78bf9f85ae"
      },
      "outputs": [
        {
          "output_type": "stream",
          "name": "stdout",
          "text": [
            "-10\n",
            "-9\n",
            "-8\n",
            "-7\n",
            "-6\n",
            "-5\n",
            "-4\n",
            "-3\n",
            "-2\n",
            "-1\n"
          ]
        }
      ],
      "source": [
        "for i in range(-10, 0):\n",
        "    print(i)\n"
      ]
    },
    {
      "cell_type": "code",
      "execution_count": 47,
      "id": "a9d9a0b3",
      "metadata": {
        "colab": {
          "base_uri": "https://localhost:8080/"
        },
        "id": "a9d9a0b3",
        "outputId": "8a69e9cf-9032-4816-ceed-2e2f75b89a4c"
      },
      "outputs": [
        {
          "output_type": "stream",
          "name": "stdout",
          "text": [
            "Enter a number: 5\n",
            "Factorial of 5 is 120\n"
          ]
        }
      ],
      "source": [
        "number = int(input(\"Enter a number: \"))\n",
        "factorial = 1\n",
        "\n",
        "for i in range(1, number + 1):\n",
        "    factorial *= i\n",
        "\n",
        "print(\"Factorial of\", number, \"is\", factorial)\n"
      ]
    },
    {
      "cell_type": "code",
      "execution_count": 48,
      "id": "3c8facde",
      "metadata": {
        "colab": {
          "base_uri": "https://localhost:8080/"
        },
        "id": "3c8facde",
        "outputId": "8ea85564-4cc4-4a31-df35-7e58ea654481"
      },
      "outputs": [
        {
          "output_type": "stream",
          "name": "stdout",
          "text": [
            "2\n",
            "4\n",
            "6\n",
            "8\n"
          ]
        }
      ],
      "source": [
        "numbers = [1, 2, 3, 4, 5, 6, 7, 8, 9]\n",
        "\n",
        "for i in range(1, len(numbers), 2):\n",
        "    print(numbers[i])\n"
      ]
    },
    {
      "cell_type": "code",
      "execution_count": 49,
      "id": "aabb8d04",
      "metadata": {
        "colab": {
          "base_uri": "https://localhost:8080/"
        },
        "id": "aabb8d04",
        "outputId": "4befa3f5-4ea0-464d-bfc6-9e6677b684a3"
      },
      "outputs": [
        {
          "output_type": "stream",
          "name": "stdout",
          "text": [
            "Enter a number: 9\n",
            "Cube of 1 is 1\n",
            "Cube of 2 is 8\n",
            "Cube of 3 is 27\n",
            "Cube of 4 is 64\n",
            "Cube of 5 is 125\n",
            "Cube of 6 is 216\n",
            "Cube of 7 is 343\n",
            "Cube of 8 is 512\n",
            "Cube of 9 is 729\n"
          ]
        }
      ],
      "source": [
        "number = int(input(\"Enter a number: \"))\n",
        "\n",
        "for i in range(1, number + 1):\n",
        "    cube = i ** 3\n",
        "    print(\"Cube of\", i, \"is\", cube)\n"
      ]
    },
    {
      "cell_type": "code",
      "execution_count": 50,
      "id": "2f5afcec",
      "metadata": {
        "colab": {
          "base_uri": "https://localhost:8080/"
        },
        "id": "2f5afcec",
        "outputId": "207c20ad-96ec-4568-fcd4-b1333145235c"
      },
      "outputs": [
        {
          "output_type": "stream",
          "name": "stdout",
          "text": [
            "[0, 1, 2, 3, 6]\n"
          ]
        }
      ],
      "source": [
        "def get_unique_digits(class_id):\n",
        "    # Convert class_id to a string\n",
        "    class_id_str = str(class_id)\n",
        "\n",
        "    # Create an empty set to store unique digits\n",
        "    unique_digits = set()\n",
        "\n",
        "    # Iterate over each character in the class_id_str\n",
        "    for char in class_id_str:\n",
        "        # Check if the character is a digit\n",
        "        if char.isdigit():\n",
        "            # Add the digit to the unique_digits set\n",
        "            unique_digits.add(int(char))\n",
        "\n",
        "    # Convert the set back to a list and return it\n",
        "    return list(unique_digits)\n",
        "\n",
        "# Example usage\n",
        "class_id = 20231061\n",
        "unique_digits = get_unique_digits(class_id)\n",
        "print(unique_digits)\n"
      ]
    },
    {
      "cell_type": "code",
      "execution_count": 50,
      "id": "e8833f65",
      "metadata": {
        "id": "e8833f65"
      },
      "outputs": [],
      "source": []
    }
  ],
  "metadata": {
    "kernelspec": {
      "display_name": "Python 3 (ipykernel)",
      "language": "python",
      "name": "python3"
    },
    "language_info": {
      "codemirror_mode": {
        "name": "ipython",
        "version": 3
      },
      "file_extension": ".py",
      "mimetype": "text/x-python",
      "name": "python",
      "nbconvert_exporter": "python",
      "pygments_lexer": "ipython3",
      "version": "3.10.9"
    },
    "colab": {
      "provenance": [],
      "include_colab_link": true
    }
  },
  "nbformat": 4,
  "nbformat_minor": 5
}